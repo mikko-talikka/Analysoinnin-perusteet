{
 "cells": [
  {
   "cell_type": "code",
   "execution_count": 6,
   "metadata": {},
   "outputs": [
    {
     "name": "stdout",
     "output_type": "stream",
     "text": [
      "Onneksi olkoon, vastaus on oikein. Arvauksia tarvittiin 3.\n"
     ]
    }
   ],
   "source": [
    "oikeaVastaus = \"Mikko\"\n",
    "arvaustenMaara = 0\n",
    "\n",
    "while True:\n",
    "    arvaus = input(\"Yritä arvata mikä nimeni on: \")\n",
    "    arvaustenMaara = arvaustenMaara + 1\n",
    "\n",
    "    if arvaus == oikeaVastaus:\n",
    "        print(f\"Onneksi olkoon, vastaus on oikein. Arvauksia tarvittiin {arvaustenMaara}.\")\n",
    "        break\n",
    "\n",
    "    if arvaus != oikeaVastaus:\n",
    "        jatka = input(\"Haluatko jatkaa yrittämistä? (k/e): \")\n",
    "        if jatka == \"k\":\n",
    "            continue\n",
    "        else:\n",
    "            print(\"Kiitos pelaamisesta!\")\n",
    "            break"
   ]
  }
 ],
 "metadata": {
  "kernelspec": {
   "display_name": "Python 3",
   "language": "python",
   "name": "python3"
  },
  "language_info": {
   "codemirror_mode": {
    "name": "ipython",
    "version": 3
   },
   "file_extension": ".py",
   "mimetype": "text/x-python",
   "name": "python",
   "nbconvert_exporter": "python",
   "pygments_lexer": "ipython3",
   "version": "3.12.0"
  }
 },
 "nbformat": 4,
 "nbformat_minor": 2
}
