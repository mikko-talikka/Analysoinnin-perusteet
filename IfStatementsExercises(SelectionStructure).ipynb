{
 "cells": [
  {
   "cell_type": "code",
   "execution_count": 13,
   "metadata": {},
   "outputs": [
    {
     "name": "stdout",
     "output_type": "stream",
     "text": [
      "number 1 is not equal to number 2\n"
     ]
    }
   ],
   "source": [
    "number1 = 5\n",
    "number2 = 6\n",
    "\n",
    "if number1 == number2:\n",
    "    print(\"number 1 and number 2 are equal\")\n",
    "\n",
    "if number1 > number2:\n",
    "    print(\"number 1 is greater than number 2\")\n",
    "\n",
    "if number1 >= number2:\n",
    "    print(\"number 1 is greater or equal to number 2\")\n",
    "\n",
    "if number1 != number2:\n",
    "    print(\"number 1 is not equal to number 2\")"
   ]
  },
  {
   "cell_type": "code",
   "execution_count": 14,
   "metadata": {},
   "outputs": [
    {
     "name": "stdout",
     "output_type": "stream",
     "text": [
      "number 2 is greater than number 3\n",
      "number 1 and number 2 are NOT equal BUT number 1 and number 3 are equal\n"
     ]
    }
   ],
   "source": [
    "number1 = 5\n",
    "number2 = 6\n",
    "number3 = 5\n",
    "\n",
    "if number1 == number2 and number2 == number3:\n",
    "    print(\"all three numbers are equal\")\n",
    "\n",
    "if number1 == number2 or number2 == number3:\n",
    "    print(\"number 1 equals number 2 OR number 2 equals number 3\")\n",
    "\n",
    "if number1 > number2 and number1 > number3:\n",
    "    print(\"number 1 is greater than number 2 AND number1 is greater than number3\")\n",
    "\n",
    "if number1 > number2:\n",
    "    print(\"number 1 is grater than number 2\")\n",
    "elif number2 > number3:\n",
    "    print(\"number 2 is greater than number 3\")\n",
    "\n",
    "if number1 == number2:\n",
    "    print(\"number 1 and number 2 are equal\")\n",
    "elif number1 == number3:\n",
    "    print(\"number 1 and number 2 are NOT equal BUT number 1 and number 3 are equal\")"
   ]
  },
  {
   "cell_type": "code",
   "execution_count": 25,
   "metadata": {},
   "outputs": [
    {
     "name": "stdout",
     "output_type": "stream",
     "text": [
      "name 1 and name 2 are not equal\n",
      "name 1 and name 2 are NOT equal BUT name 1 and name 3 are equal\n"
     ]
    }
   ],
   "source": [
    "name1 = \"Mikko\"\n",
    "name2 = \"Juuso\"\n",
    "name3 = \"Mikko\"\n",
    "\n",
    "if name1 == name2:\n",
    "    print(\"name 1 and name 2 are equal\")\n",
    "\n",
    "if name1 != name2:\n",
    "    print(\"name 1 and name 2 are not equal\")\n",
    "\n",
    "if name1 == name2:\n",
    "    print(\"name 1 and name 2 are equal\")\n",
    "elif name1 == name3:\n",
    "    print(\"name 1 and name 2 are NOT equal BUT name 1 and name 3 are equal\")"
   ]
  }
 ],
 "metadata": {
  "kernelspec": {
   "display_name": "Python 3",
   "language": "python",
   "name": "python3"
  },
  "language_info": {
   "codemirror_mode": {
    "name": "ipython",
    "version": 3
   },
   "file_extension": ".py",
   "mimetype": "text/x-python",
   "name": "python",
   "nbconvert_exporter": "python",
   "pygments_lexer": "ipython3",
   "version": "3.12.0"
  }
 },
 "nbformat": 4,
 "nbformat_minor": 2
}
