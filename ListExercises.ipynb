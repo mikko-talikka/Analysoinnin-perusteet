{
 "cells": [
  {
   "cell_type": "code",
   "execution_count": 12,
   "metadata": {},
   "outputs": [
    {
     "name": "stdout",
     "output_type": "stream",
     "text": [
      "['tuoli', 'sohva', 'hylly', 'pöytä']\n",
      "['tuoli', 'sohva']\n",
      "sohva\n"
     ]
    }
   ],
   "source": [
    "kalusteet = [\"tuoli\", \"sohva\", \"hylly\", \"pöytä\"]\n",
    "print (kalusteet)\n",
    "print (kalusteet [:2])\n",
    "\n",
    "if \"sohva\" in kalusteet:\n",
    "    print(\"sohva\")\n",
    "else:\n",
    "    print(\"Listalta ei löydy sohvaa.\")\n"
   ]
  },
  {
   "cell_type": "code",
   "execution_count": 25,
   "metadata": {},
   "outputs": [
    {
     "name": "stdout",
     "output_type": "stream",
     "text": [
      "[5, 2, 0, 4, 0]\n",
      "11\n",
      "5\n"
     ]
    }
   ],
   "source": [
    "import random\n",
    "\n",
    "thrownDiceNumbers = []\n",
    "\n",
    "for i in range(5):\n",
    "    thrownDiceNumbers.append(random.randint(0, 6))\n",
    "\n",
    "print(thrownDiceNumbers)\n",
    "\n",
    "summa = sum(thrownDiceNumbers)\n",
    "print(summa)\n",
    "\n",
    "suurin_arvo = max(thrownDiceNumbers)\n",
    "print(suurin_arvo)"
   ]
  }
 ],
 "metadata": {
  "kernelspec": {
   "display_name": "Python 3",
   "language": "python",
   "name": "python3"
  },
  "language_info": {
   "codemirror_mode": {
    "name": "ipython",
    "version": 3
   },
   "file_extension": ".py",
   "mimetype": "text/x-python",
   "name": "python",
   "nbconvert_exporter": "python",
   "pygments_lexer": "ipython3",
   "version": "3.12.0"
  }
 },
 "nbformat": 4,
 "nbformat_minor": 2
}
