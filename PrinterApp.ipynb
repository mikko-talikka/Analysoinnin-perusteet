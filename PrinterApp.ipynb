{
 "cells": [
  {
   "cell_type": "code",
   "execution_count": 43,
   "metadata": {},
   "outputs": [
    {
     "name": "stdout",
     "output_type": "stream",
     "text": [
      "Printer App\n",
      "This app is made by: Mikko\n",
      "6\n",
      "The value of number1 is 6\n",
      "The value of number2 is 3\n",
      "6  *  3  =  18\n",
      "6  +  3  =  9\n",
      "6  /  3  =  2.0\n",
      "6  -  3  =  3\n"
     ]
    }
   ],
   "source": [
    "creator = \"Mikko\"\n",
    "number1 = 6\n",
    "number2 = 3\n",
    "multiplication = int\n",
    "addition = int\n",
    "division = float\n",
    "substraction = int\n",
    "\n",
    "print(\"Printer App\")\n",
    "print(\"This app is made by: \" + creator)\n",
    "print(number1)\n",
    "\n",
    "print(\"The value of number1 is\" , number1)\n",
    "print(\"The value of number2 is\" , number2)\n",
    "\n",
    "multiplication = number1 * number2\n",
    "addition = number1 + number2\n",
    "division = number1 / number2\n",
    "substraction = number1 - number2\n",
    "\n",
    "print(number1, \" * \", number2, \" = \", (number1 * number2))\n",
    "print(number1, \" + \", number2, \" = \", (number1 + number2))\n",
    "print(number1, \" / \", number2, \" = \", (number1 / number2))\n",
    "print(number1, \" - \", number2, \" = \", (number1 - number2))\n",
    "\n",
    "\n",
    "\n"
   ]
  }
 ],
 "metadata": {
  "kernelspec": {
   "display_name": "Python 3",
   "language": "python",
   "name": "python3"
  },
  "language_info": {
   "codemirror_mode": {
    "name": "ipython",
    "version": 3
   },
   "file_extension": ".py",
   "mimetype": "text/x-python",
   "name": "python",
   "nbconvert_exporter": "python",
   "pygments_lexer": "ipython3",
   "version": "3.12.0"
  }
 },
 "nbformat": 4,
 "nbformat_minor": 2
}
